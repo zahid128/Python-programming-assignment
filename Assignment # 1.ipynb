{
 "cells": [
  {
   "cell_type": "code",
   "execution_count": 23,
   "metadata": {},
   "outputs": [
    {
     "name": "stdout",
     "output_type": "stream",
     "text": [
      "Twinkle , Little start ,\n",
      "    How I wonder what you are ! \n",
      "       Up above the world so high, \n",
      "       like a diamond in the sky \n",
      " Twinkle, twinkle, Little start, \n",
      "    How I wonder what you are! \n"
     ]
    }
   ],
   "source": [
    "print(\"Twinkle , Little start ,\\n    How I wonder what you are ! \\n       Up above the world so high, \\n       like a diamond in the sky \\n Twinkle, twinkle, Little start, \\n    How I wonder what you are! \")"
   ]
  },
  {
   "cell_type": "code",
   "execution_count": 26,
   "metadata": {},
   "outputs": [
    {
     "name": "stdout",
     "output_type": "stream",
     "text": [
      "Python 3\n"
     ]
    }
   ],
   "source": [
    "print(\"Python 3\")"
   ]
  },
  {
   "cell_type": "code",
   "execution_count": 32,
   "metadata": {},
   "outputs": [
    {
     "name": "stdout",
     "output_type": "stream",
     "text": [
      "Date: 02/11/2019 \n",
      "Time: 2:26 pm \n"
     ]
    }
   ],
   "source": [
    "print(\"Date: 02/11/2019 \\nTime: 2:26 pm \")"
   ]
  },
  {
   "cell_type": "code",
   "execution_count": 58,
   "metadata": {},
   "outputs": [
    {
     "name": "stdout",
     "output_type": "stream",
     "text": [
      "Enter your radius: 4\n",
      "Area of circle: 50.24\n"
     ]
    }
   ],
   "source": [
    "Pi = 3.14\n",
    "r   = float(input(\"Enter your radius: \"))\n",
    "\n",
    "Area = Pi*r*r\n",
    "\n",
    "print(\"Area of circle: \" + str(Area))"
   ]
  },
  {
   "cell_type": "code",
   "execution_count": 65,
   "metadata": {},
   "outputs": [
    {
     "name": "stdout",
     "output_type": "stream",
     "text": [
      "ilA dihaz\n"
     ]
    }
   ],
   "source": [
    "text = \"zahid Ali\"[::-1]\n",
    "\n",
    "print(text)"
   ]
  },
  {
   "cell_type": "code",
   "execution_count": 66,
   "metadata": {},
   "outputs": [
    {
     "name": "stdout",
     "output_type": "stream",
     "text": [
      "enter a first number :5\n",
      "enter a second number:6\n",
      "11\n"
     ]
    }
   ],
   "source": [
    "a = int(input(\"enter a first number :\"))\n",
    "b = int(input(\"enter a second number:\"))\n",
    "\n",
    "c = a + b\n",
    "\n",
    "print(c)"
   ]
  },
  {
   "cell_type": "code",
   "execution_count": null,
   "metadata": {},
   "outputs": [],
   "source": []
  }
 ],
 "metadata": {
  "kernelspec": {
   "display_name": "Python 3",
   "language": "python",
   "name": "python3"
  },
  "language_info": {
   "codemirror_mode": {
    "name": "ipython",
    "version": 3
   },
   "file_extension": ".py",
   "mimetype": "text/x-python",
   "name": "python",
   "nbconvert_exporter": "python",
   "pygments_lexer": "ipython3",
   "version": "3.7.4"
  }
 },
 "nbformat": 4,
 "nbformat_minor": 2
}
